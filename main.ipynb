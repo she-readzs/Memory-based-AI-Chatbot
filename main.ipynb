{
 "cells": [
  {
   "cell_type": "code",
   "execution_count": 1,
   "id": "17bffb64",
   "metadata": {},
   "outputs": [
    {
     "name": "stdout",
     "output_type": "stream",
     "text": [
      "Collecting requests\n",
      "  Using cached requests-2.32.5-py3-none-any.whl.metadata (4.9 kB)\n",
      "Collecting python-dotenv\n",
      "  Using cached python_dotenv-1.1.1-py3-none-any.whl.metadata (24 kB)\n",
      "Collecting charset_normalizer<4,>=2 (from requests)\n",
      "  Using cached charset_normalizer-3.4.3-cp313-cp313-win_amd64.whl.metadata (37 kB)\n",
      "Requirement already satisfied: idna<4,>=2.5 in c:\\users\\nehab\\onedrive\\desktop\\p3 (memory-based ai chatbot)\\env\\lib\\site-packages (from requests) (3.10)\n",
      "Collecting urllib3<3,>=1.21.1 (from requests)\n",
      "  Using cached urllib3-2.5.0-py3-none-any.whl.metadata (6.5 kB)\n",
      "Requirement already satisfied: certifi>=2017.4.17 in c:\\users\\nehab\\onedrive\\desktop\\p3 (memory-based ai chatbot)\\env\\lib\\site-packages (from requests) (2025.8.3)\n",
      "Using cached requests-2.32.5-py3-none-any.whl (64 kB)\n",
      "Using cached python_dotenv-1.1.1-py3-none-any.whl (20 kB)\n",
      "Using cached charset_normalizer-3.4.3-cp313-cp313-win_amd64.whl (107 kB)\n",
      "Using cached urllib3-2.5.0-py3-none-any.whl (129 kB)\n",
      "Installing collected packages: urllib3, python-dotenv, charset_normalizer, requests\n",
      "Successfully installed charset_normalizer-3.4.3 python-dotenv-1.1.1 requests-2.32.5 urllib3-2.5.0\n",
      "Note: you may need to restart the kernel to use updated packages.\n"
     ]
    },
    {
     "name": "stderr",
     "output_type": "stream",
     "text": [
      "\n",
      "[notice] A new release of pip is available: 24.2 -> 25.2\n",
      "[notice] To update, run: python.exe -m pip install --upgrade pip\n"
     ]
    }
   ],
   "source": [
    "pip install requests python-dotenv\n"
   ]
  },
  {
   "cell_type": "code",
   "execution_count": 2,
   "id": "3e906ea7",
   "metadata": {},
   "outputs": [],
   "source": [
    "import os\n",
    "import requests\n",
    "import json\n",
    "from dotenv import load_dotenv\n"
   ]
  },
  {
   "cell_type": "code",
   "execution_count": 3,
   "id": "41ce22f8",
   "metadata": {},
   "outputs": [],
   "source": [
    "# Load keys from .env\n",
    "load_dotenv()\n",
    "GROQ_API_KEY = os.getenv(\"GROQ_API_KEY\")\n",
    "\n",
    "API_URL = \"https://api.groq.com/openai/v1/chat/completions\""
   ]
  },
  {
   "cell_type": "code",
   "execution_count": 4,
   "id": "783d2169",
   "metadata": {},
   "outputs": [],
   "source": [
    "# Conversation memory\n",
    "conversation_history = []\n"
   ]
  },
  {
   "cell_type": "code",
   "execution_count": 5,
   "id": "8d25f81a",
   "metadata": {},
   "outputs": [],
   "source": [
    "# Send message to Groq API\n",
    "def get_groq_response():\n",
    "    headers = {\n",
    "        \"Authorization\": f\"Bearer {GROQ_API_KEY}\",\n",
    "        \"Content-Type\": \"application/json\"\n",
    "    }\n",
    "\n",
    "    data = {\n",
    "        \"model\": \"llama-3.3-70b-versatile\",  \n",
    "        \"messages\": conversation_history  \n",
    "    }\n",
    "\n",
    "    try:\n",
    "        response = requests.post(API_URL, headers=headers, data=json.dumps(data))\n",
    "        if response.status_code == 200:\n",
    "            response_data = response.json()\n",
    "            return response_data['choices'][0]['message']['content']\n",
    "        else:\n",
    "            return f\"Error: {response.status_code} - {response.text}\"\n",
    "    except Exception as e:\n",
    "        return f\"Exception occurred: {str(e)}\""
   ]
  },
  {
   "cell_type": "code",
   "execution_count": 6,
   "id": "4f6e8330",
   "metadata": {},
   "outputs": [],
   "source": [
    "# Add messages to history\n",
    "def update_conversation(role, content):\n",
    "    conversation_history.append({\"role\": role, \"content\": content})\n"
   ]
  },
  {
   "cell_type": "code",
   "execution_count": 8,
   "id": "c76dff48",
   "metadata": {},
   "outputs": [],
   "source": [
    "# Chatbot loop\n",
    "def chatbot():\n",
    "    print(\"Groq Chatbot: Hello! Type 'exit' to quit.\")\n",
    "\n",
    "    while True:\n",
    "        user_message = input(\"You: \")\n",
    "        if user_message.lower() == \"exit\":\n",
    "            print(\"Groq Chatbot: Goodbye!\")\n",
    "            break\n",
    "\n",
    "        # Add user msg to memory\n",
    "        update_conversation(\"user\", user_message)\n",
    "\n",
    "        # Get bot response\n",
    "        bot_response = get_groq_response()\n",
    "\n",
    "        # Add bot response to memory\n",
    "        update_conversation(\"assistant\", bot_response)\n",
    "\n",
    "        print(f\"Groq Chatbot: {bot_response}\")"
   ]
  },
  {
   "cell_type": "code",
   "execution_count": 10,
   "id": "1959065c",
   "metadata": {},
   "outputs": [
    {
     "name": "stdout",
     "output_type": "stream",
     "text": [
      "Groq Chatbot: Hello! Type 'exit' to quit.\n",
      "Groq Chatbot: It's nice to see you again. Is everything okay? Do you want to talk about something specific or just shoot the breeze for a bit? I'm all ears (or rather, all text).\n",
      "Groq Chatbot: Nice to meet you, Neha! It's great to connect with a data scientist like yourself. Data science is such a fascinating field, and I'm sure you must be working on some really interesting projects.\n",
      "\n",
      "What kind of data science work do you do, Neha? Are you working in a specific industry, such as healthcare or finance, or are you more focused on research and development? I'm curious to know more about your work and experiences!\n",
      "Groq Chatbot: Your name is... **Neha Bhati**! I'd be happy to say it again: Neha! How's that? Did I get it right?\n",
      "Groq Chatbot: It was nice chatting with you, Neha. If you want to talk again or need anything, feel free to come back and say hi. Have a great day and happy data sciencing! Bye for now!\n",
      "Groq Chatbot: Goodbye!\n"
     ]
    }
   ],
   "source": [
    "\n",
    "# Run chatbot\n",
    "if __name__ == \"__main__\":\n",
    "    chatbot()"
   ]
  },
  {
   "cell_type": "code",
   "execution_count": null,
   "id": "f82005e8",
   "metadata": {},
   "outputs": [],
   "source": []
  },
  {
   "cell_type": "code",
   "execution_count": null,
   "id": "1b7a5457",
   "metadata": {},
   "outputs": [],
   "source": []
  },
  {
   "cell_type": "code",
   "execution_count": null,
   "id": "a13fd5ef",
   "metadata": {},
   "outputs": [],
   "source": []
  }
 ],
 "metadata": {
  "kernelspec": {
   "display_name": "env",
   "language": "python",
   "name": "python3"
  },
  "language_info": {
   "codemirror_mode": {
    "name": "ipython",
    "version": 3
   },
   "file_extension": ".py",
   "mimetype": "text/x-python",
   "name": "python",
   "nbconvert_exporter": "python",
   "pygments_lexer": "ipython3",
   "version": "3.13.0"
  }
 },
 "nbformat": 4,
 "nbformat_minor": 5
}
